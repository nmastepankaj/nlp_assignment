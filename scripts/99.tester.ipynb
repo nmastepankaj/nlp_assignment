{
 "cells": [
  {
   "cell_type": "code",
   "execution_count": 2,
   "metadata": {},
   "outputs": [],
   "source": [
    "from utilfunction import col_convert\n",
    "import pandas as pd"
   ]
  },
  {
   "cell_type": "code",
   "execution_count": 4,
   "metadata": {},
   "outputs": [
    {
     "name": "stderr",
     "output_type": "stream",
     "text": [
      "Found cached dataset csv (C:/Users/parkm/.cache/huggingface/datasets/danielpark___csv/danielpark--MQuAD-v1-87d38281de25bbdb/0.0.0/6954658bab30a358235fa864b05cf819af0e179325c740e4bc853bcc7ec513e1)\n"
     ]
    },
    {
     "data": {
      "application/vnd.jupyter.widget-view+json": {
       "model_id": "666e409b2e434e94be2a7455f5063123",
       "version_major": 2,
       "version_minor": 0
      },
      "text/plain": [
       "  0%|          | 0/1 [00:00<?, ?it/s]"
      ]
     },
     "metadata": {},
     "output_type": "display_data"
    }
   ],
   "source": [
    "from datasets import load_dataset\n",
    "from utilfunction import col_convert\n",
    "\n",
    "qa = load_dataset(\"danielpark/MQuAD-v1\", \"csv\")\n",
    "df_qa = pd.DataFrame(qa['train'])\n",
    "\n",
    "df_qa = col_convert(df_qa, ['Q_FFNN_embeds', 'A_FFNN_embeds'])"
   ]
  }
 ],
 "metadata": {
  "kernelspec": {
   "display_name": "miccai",
   "language": "python",
   "name": "miccai"
  },
  "language_info": {
   "codemirror_mode": {
    "name": "ipython",
    "version": 3
   },
   "file_extension": ".py",
   "mimetype": "text/x-python",
   "name": "python",
   "nbconvert_exporter": "python",
   "pygments_lexer": "ipython3",
   "version": "3.8.5"
  },
  "orig_nbformat": 4
 },
 "nbformat": 4,
 "nbformat_minor": 2
}
